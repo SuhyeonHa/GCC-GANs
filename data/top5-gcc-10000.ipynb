{
 "cells": [
  {
   "cell_type": "code",
   "execution_count": 17,
   "id": "a4494dd9-a686-42e0-b26f-ee5ad8387a51",
   "metadata": {},
   "outputs": [
    {
     "name": "stdout",
     "output_type": "stream",
     "text": [
      "/opt/conda/bin/python\n"
     ]
    }
   ],
   "source": [
    "import sys\n",
    "# sys.path.append('/opt/conda/bin/python')\n",
    "print(sys.executable)"
   ]
  },
  {
   "cell_type": "code",
   "execution_count": 18,
   "id": "82ebac03-0d22-4a14-addf-764d755ff691",
   "metadata": {},
   "outputs": [],
   "source": [
    "import numpy as np\n",
    "import skimage.io as io\n",
    "import random\n",
    "import os\n",
    "import albumentations as A\n",
    "import cv2\n",
    "import pickle\n",
    "import torch\n",
    "from pycocotools.coco import COCO\n",
    "from torch.utils.data import Dataset, DataLoader\n",
    "from collections import defaultdict\n",
    "from torchvision import transforms\n",
    "\n",
    "\n",
    "### For visualizing the outputs ###\n",
    "import matplotlib.pyplot as plt\n",
    "import matplotlib.gridspec as gridspec\n",
    "%matplotlib inline"
   ]
  },
  {
   "cell_type": "code",
   "execution_count": 19,
   "id": "ef19a59d-0d37-4269-b2fb-5b4ad811811c",
   "metadata": {},
   "outputs": [],
   "source": [
    "torch.cuda.device_count()\n",
    "device = torch.device('cuda:5')"
   ]
  },
  {
   "cell_type": "code",
   "execution_count": 20,
   "id": "8c4b45ab-5ac9-4834-9a18-50fc78691542",
   "metadata": {},
   "outputs": [],
   "source": [
    "torch.cuda.empty_cache()"
   ]
  },
  {
   "cell_type": "code",
   "execution_count": 21,
   "id": "eecbcdea-25cc-4890-8132-231e988d937d",
   "metadata": {
    "tags": []
   },
   "outputs": [],
   "source": [
    "mode = 'train'\n",
    "\n",
    "load_folder = '/shared/data/COCOdataset2017'\n",
    "save_folder = '/shared/suhyeon/GCCdataset'\n",
    "mask_folder = '{}/masks/{}'.format(save_folder, mode)\n",
    "\n",
    "batch_size = 1\n",
    "input_size = (256, 256)\n",
    "top5_dic = defaultdict(tuple)\n",
    "SMOOTH = 1e-6"
   ]
  },
  {
   "cell_type": "code",
   "execution_count": 22,
   "id": "2a2bf019-2ab9-455b-880e-5476aa968f67",
   "metadata": {},
   "outputs": [],
   "source": [
    "with open('./validAnns_train.pkl', 'rb') as f:\n",
    "    validAnns = pickle.load(f)\n",
    "    \n",
    "with open('./validAnns_dict_train.pkl', 'rb') as f:\n",
    "    validAnnsDict = pickle.load(f)"
   ]
  },
  {
   "cell_type": "code",
   "execution_count": 23,
   "id": "17be5e99-5535-4290-9bba-dc2fc3fae687",
   "metadata": {},
   "outputs": [],
   "source": [
    "trans = transforms.ToTensor()"
   ]
  },
  {
   "cell_type": "code",
   "execution_count": 24,
   "id": "9a0f9252-fcd4-46f2-9a2e-7a3d49d441c1",
   "metadata": {},
   "outputs": [
    {
     "name": "stdout",
     "output_type": "stream",
     "text": [
      "data loading: 304.71742 sec\n"
     ]
    }
   ],
   "source": [
    "import math\n",
    "import time\n",
    "\n",
    "masks = {}\n",
    "\n",
    "start = time.time()\n",
    "for i, (catId, imgId, annId) in enumerate(validAnns):\n",
    "    mask = cv2.imread(mask_folder + '/' + str(annId) + '.png', cv2.IMREAD_GRAYSCALE)\n",
    "    mask = cv2.resize(mask, input_size)\n",
    "    mask = trans(mask).type(torch.bool).to(device)\n",
    "    masks[annId] = mask\n",
    "end = time.time()\n",
    "\n",
    "print(f\"data loading: {end - start:.5f} sec\")"
   ]
  },
  {
   "cell_type": "code",
   "execution_count": null,
   "id": "ac02adb2-5ed5-4a35-a1c1-d93f7b0278f1",
   "metadata": {},
   "outputs": [
    {
     "name": "stdout",
     "output_type": "stream",
     "text": [
      "[19337/20000] average time: 2.53775 secec\r"
     ]
    }
   ],
   "source": [
    "total = 0\n",
    "src_validAnns = validAnns[100000:120000]\n",
    "\n",
    "for i, (catId_1, imgId_1, annId_1) in enumerate(src_validAnns):\n",
    "    start = time.time()\n",
    "    ious = [(0, 0, 0)] * 5\n",
    "    mask_1 = masks[annId_1]\n",
    "    \n",
    "    cands = [data for data in validAnns if data[0]==catId_1 and data[2] != annId_1]\n",
    "    \n",
    "    for catId_2, imgId_2, annId_2 in cands:\n",
    "        mask_2 = masks[annId_2]\n",
    "\n",
    "        intersection = (mask_1 & mask_2).sum()\n",
    "        union = (mask_1 | mask_2).sum()\n",
    "        iou = (intersection + SMOOTH) / (union + SMOOTH)  # to avoid 0/0\n",
    "        if ious[-1][2] < iou:\n",
    "            ious[-1] = (imgId_2, annId_2, iou)\n",
    "            ious = sorted(ious, key=lambda x : -x[2])\n",
    "\n",
    "    end = time.time()\n",
    "    elapsed = end - start\n",
    "    total += elapsed\n",
    "    print(\"[{}/{}]\".format(i, len(src_validAnns)), f\"average time: {total/(i+SMOOTH):.5f} sec\", end='\\r')\n",
    "    top5_dic[(catId_1, imgId_1, annId_1)] = ious\n",
    "    \n",
    "    if i % 100 == 0:\n",
    "        with open(\"./top5_dict_train_100000.pkl\".format(mode), \"wb\") as f:\n",
    "            pickle.dump(top5_dic, f)\n",
    "with open(\"./top5_dict_train_100000.pkl\".format(mode), \"wb\") as f:\n",
    "            pickle.dump(top5_dic, f)"
   ]
  },
  {
   "cell_type": "code",
   "execution_count": null,
   "id": "6318fe65-4180-4c81-aea8-c20bc34fb2ac",
   "metadata": {},
   "outputs": [],
   "source": [
    "with open(\"./top5_dict_train_80000.pkl\".format(mode), \"wb\") as f:\n",
    "            pickle.dump(top5_dic, f)"
   ]
  },
  {
   "cell_type": "code",
   "execution_count": null,
   "id": "0b857f6b-aaaa-4fba-a07b-ed47576515fc",
   "metadata": {},
   "outputs": [],
   "source": []
  }
 ],
 "metadata": {
  "kernelspec": {
   "display_name": "Python 3.6.9 64-bit",
   "language": "python",
   "name": "python3"
  },
  "language_info": {
   "codemirror_mode": {
    "name": "ipython",
    "version": 3
   },
   "file_extension": ".py",
   "mimetype": "text/x-python",
   "name": "python",
   "nbconvert_exporter": "python",
   "pygments_lexer": "ipython3",
   "version": "3.6.9"
  },
  "vscode": {
   "interpreter": {
    "hash": "31f2aee4e71d21fbe5cf8b01ff0e069b9275f58929596ceb00d14d90e3e16cd6"
   }
  }
 },
 "nbformat": 4,
 "nbformat_minor": 5
}
