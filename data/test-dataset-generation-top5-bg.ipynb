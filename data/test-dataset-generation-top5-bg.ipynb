{
 "cells": [
  {
   "cell_type": "code",
   "execution_count": 1,
   "id": "528fc9fe-4d8e-4294-ae1f-d5900a72d6b7",
   "metadata": {},
   "outputs": [],
   "source": [
    "import numpy as np\n",
    "import skimage.io as io\n",
    "import random\n",
    "import os\n",
    "import albumentations as A\n",
    "import cv2\n",
    "import pickle\n",
    "import torch\n",
    "from pycocotools.coco import COCO\n",
    "from torch.utils.data import Dataset, DataLoader\n",
    "from albumentations.pytorch import ToTensorV2\n",
    "import glob\n",
    "import time\n",
    "from random import shuffle"
   ]
  },
  {
   "cell_type": "code",
   "execution_count": 2,
   "id": "9a70da1e-7e7f-431b-a56d-79faac12218a",
   "metadata": {},
   "outputs": [],
   "source": [
    "torch.cuda.device_count()\n",
    "device = torch.device('cuda:0')\n",
    "torch.cuda.empty_cache()"
   ]
  },
  {
   "cell_type": "code",
   "execution_count": 3,
   "id": "d381894f-aaf1-4e57-911d-f02a99f7ccc6",
   "metadata": {},
   "outputs": [
    {
     "name": "stdout",
     "output_type": "stream",
     "text": [
      "loading annotations into memory...\n",
      "Done (t=0.74s)\n",
      "creating index...\n",
      "index created!\n"
     ]
    }
   ],
   "source": [
    "mode = 'val'\n",
    "\n",
    "load_folder = '/shared/data/COCOdataset2017/images/{}'.format(mode)\n",
    "save_folder = '/shared/suhyeon/GCCdataset'\n",
    "mask_folder = '{}/masks/{}'.format(save_folder, mode)\n",
    "ann_file = '/shared/data/COCOdataset2017/annotations/instances_{}.json'.format(mode)\n",
    "coco = COCO(ann_file)\n",
    "\n",
    "batch_size = 1\n",
    "input_size = (256, 256)\n",
    "SMOOTH = 1e-6"
   ]
  },
  {
   "cell_type": "code",
   "execution_count": 4,
   "id": "68e2f4bb-b897-4200-8269-9cb85beaa7fe",
   "metadata": {},
   "outputs": [],
   "source": [
    "with open('./validAnns_val.pkl', 'rb') as f:\n",
    "    validAnns = pickle.load(f)\n",
    "\n",
    "with open('./top5_dict_val.pkl', 'rb') as f:\n",
    "    top5_dict = pickle.load(f)\n",
    "    \n",
    "# def getImage(self, imageObj, img_folder, img_size):\n",
    "#         # Read and normalize an image\n",
    "#         train_img = cv2.imread(img_folder + '/' + imageObj['file_name'], cv2.IMREAD_COLOR)\n",
    "#         train_img = cv2.cvtColor(train_img, cv2.COLOR_BGR2RGB)\n",
    "#         train_img = cv2.resize(train_img, img_size) # (W,H)\n",
    "#         return train_img\n"
   ]
  },
  {
   "cell_type": "code",
   "execution_count": 5,
   "id": "f803c2c3-210f-4697-b41f-8536df910494",
   "metadata": {},
   "outputs": [
    {
     "data": {
      "text/plain": [
       "6679"
      ]
     },
     "execution_count": 5,
     "metadata": {},
     "output_type": "execute_result"
    }
   ],
   "source": [
    "len(top5_dict.items())"
   ]
  },
  {
   "cell_type": "code",
   "execution_count": 6,
   "id": "83ddeb71-3f41-49c6-ac23-95f09e09fa88",
   "metadata": {},
   "outputs": [
    {
     "name": "stdout",
     "output_type": "stream",
     "text": [
      "6679\n"
     ]
    }
   ],
   "source": [
    "print(len(validAnns))"
   ]
  },
  {
   "cell_type": "code",
   "execution_count": 7,
   "id": "b1f86f07-6aef-439c-b7e0-a8e514bbc8eb",
   "metadata": {},
   "outputs": [
    {
     "name": "stdout",
     "output_type": "stream",
     "text": [
      "data loaded: 51.37266 sec\n"
     ]
    }
   ],
   "source": [
    "# 1) load all images, masks\n",
    "# torch XXXX opencv operation needed\n",
    "\n",
    "images = {}\n",
    "masks = {}\n",
    "\n",
    "start = time.time()\n",
    "\n",
    "# images folder glob -> transform (256,256)\n",
    "for i, (catId, imgId, annId) in enumerate(validAnns):\n",
    "    image = cv2.imread(load_folder + '/' + str(imgId).zfill(12) + '.jpg', cv2.IMREAD_COLOR)\n",
    "    image = cv2.resize(image, input_size)\n",
    "    images[imgId] = image\n",
    "    # mask = trans(mask).type(torch.bool).to(device)\n",
    "    \n",
    "    mask = cv2.imread(mask_folder + '/' + str(annId) + '.png', cv2.IMREAD_GRAYSCALE)\n",
    "    mask = cv2.resize(mask, input_size)\n",
    "    # mask = trans(mask).type(torch.bool).to(device)\n",
    "    masks[annId] = mask\n",
    "    \n",
    "end = time.time()\n",
    "\n",
    "print(f\"data loaded: {end - start:.5f} sec\")"
   ]
  },
  {
   "cell_type": "code",
   "execution_count": 8,
   "id": "53580686-a6fd-4e17-8040-10d19406a667",
   "metadata": {},
   "outputs": [
    {
     "name": "stdout",
     "output_type": "stream",
     "text": [
      "3669 6679\n"
     ]
    }
   ],
   "source": [
    "print(len(images), len(masks))"
   ]
  },
  {
   "cell_type": "code",
   "execution_count": 9,
   "id": "94c5348b-be75-452d-8ded-0635b940038e",
   "metadata": {},
   "outputs": [],
   "source": [
    "# masks[6000].shape"
   ]
  },
  {
   "cell_type": "code",
   "execution_count": 10,
   "id": "279da8c3-9e44-45ad-8c27-0c667fb24fee",
   "metadata": {},
   "outputs": [],
   "source": [
    "# 2) not load images, just get images from file paths\n",
    "### For visualizing the outputs ###\n",
    "import matplotlib.pyplot as plt\n",
    "import matplotlib.gridspec as gridspec\n",
    "%matplotlib inline\n",
    "\n",
    "kernel = np.ones((3, 3), np.uint8)\n",
    "SMOOTH = 1e-6\n",
    "total = 0"
   ]
  },
  {
   "cell_type": "code",
   "execution_count": 11,
   "id": "771c2ef9-6ef9-41fb-a219-6626ec1441fe",
   "metadata": {},
   "outputs": [
    {
     "name": "stdout",
     "output_type": "stream",
     "text": [
      "# class: 80\n"
     ]
    }
   ],
   "source": [
    "from collections import defaultdict\n",
    "print('# class:', len(coco.getCatIds()))\n",
    "cnt_dict = defaultdict(int)\n",
    "top5_list = list(top5_dict.items())\n",
    "shuffle(top5_list)"
   ]
  },
  {
   "cell_type": "code",
   "execution_count": 12,
   "id": "ee4bb9fc-d416-4753-97ca-d95d7572711a",
   "metadata": {},
   "outputs": [],
   "source": [
    "# top5_list[0]"
   ]
  },
  {
   "cell_type": "code",
   "execution_count": 13,
   "id": "ccf4514f-ffaf-4a0e-b64d-5fd2b4df5344",
   "metadata": {},
   "outputs": [
    {
     "data": {
      "text/plain": [
       "6679"
      ]
     },
     "execution_count": 13,
     "metadata": {},
     "output_type": "execute_result"
    }
   ],
   "source": [
    "len(top5_list)"
   ]
  },
  {
   "cell_type": "code",
   "execution_count": 17,
   "id": "428e5bf0-34aa-452d-963c-cb4988905e63",
   "metadata": {},
   "outputs": [
    {
     "name": "stdout",
     "output_type": "stream",
     "text": [
      "80 232348 1128607 66841 1128597 1\n",
      "36 193429 615389 304817 619320 2\n",
      "34 52891 601915 221693 601999 1\n",
      "90 160666 342306 521405 342858 0\n",
      "40 407298 634391 27932 634731 1\n",
      "89 350002 1676045 257169 1188308 2\n",
      "89 257169 1188308 350002 1676045 2\n",
      "34 221693 601999 6954 605276 1\n"
     ]
    }
   ],
   "source": [
    "for i, ((catId_1, imgId_1, annId_1), cands) in enumerate(top5_list):\n",
    "    # start = time.time()\n",
    "    # cat_id = coco.loadAnns(annId_1)[0]['category_id']\n",
    "    # print(catId_1, cnt_dict[catId_1], annId_1, cands)\n",
    "\n",
    "    img1 = images[imgId_1]\n",
    "    mask1 = masks[annId_1]\n",
    "    \n",
    "    # fg1 = cv2.bitwise_and(img1, img1, mask = mask1) \n",
    "    invert1 = cv2.bitwise_not(mask1)//255\n",
    "    bg1 = cv2.bitwise_and(img1, img1, mask = invert1)\n",
    "    \n",
    "    # cv2.imwrite(save_folder + '/val/src/' + str(annId_1).zfill(12) + '_bg' + '.png', bg1)\n",
    "    # cv2.imwrite(save_folder + '/val/src/' + str(annId_1).zfill(12) + '_fg' + '.png', fg1)\n",
    "    # cv2.imwrite(save_folder + '/val/src/' + str(annId_1).zfill(12) + '_gt' + '.png', img1)\n",
    "    # cv2.imwrite(save_folder + '/val/src/' + str(annId_1).zfill(12) + '_mask' + '.png', mask1)\n",
    "    \n",
    "    if cnt_dict[catId_1] < 5:\n",
    "        imgId_2, annId_2, _ = cands[np.random.randint(5)] #top5\n",
    "        # for j, (imgId_2, annId_2, _) in enumerate(cands):\n",
    "        if imgId_2 != 0 and annId_2 != 0:\n",
    "            \n",
    "            print(catId_1, imgId_1, annId_1, imgId_2, annId_2, cnt_dict[catId_1])\n",
    "\n",
    "            img2 = images[imgId_2]\n",
    "            mask2 = masks[annId_2]\n",
    "            \n",
    "            fg2 = cv2.bitwise_and(img2, img2, mask = mask2)\n",
    "            \n",
    "            path = save_folder + '/val_bg/' + str(annId_1).zfill(12) + '_' + str(annId_2).zfill(12) + '_bg' + '.png'\n",
    "            \n",
    "            if not os.path.isfile(path):\n",
    "                cnt_dict[catId_1] += 1\n",
    "                cv2.imwrite(save_folder + '/val_bg/' + str(annId_1).zfill(12) + '_' + str(annId_2).zfill(12) + '_bg' + '.png', bg1)\n",
    "                cv2.imwrite(save_folder + '/val_bg/' + str(annId_1).zfill(12) + '_' + str(annId_2).zfill(12) + '_fg' + '.png', fg2)\n",
    "                cv2.imwrite(save_folder + '/val_bg/' + str(annId_1).zfill(12) + '_' + str(annId_2).zfill(12) + '_mask' + '.png', mask2)\n",
    "\n",
    "#             fg2 = cv2.bitwise_and(img2, img2, mask = mask2) \n",
    "#             invert2 = cv2.bitwise_not(mask2)//255\n",
    "#             bg2 = cv2.bitwise_and(img2, img2, mask = invert2)\n",
    "\n",
    "#             com = cv2.copyTo(fg2, mask2, img1.copy())\n",
    "\n",
    "#             # cv2.imwrite(save_folder + '/val/tgt/' + str(annId_1).zfill(12) + '_tgt_' + str(annId_2).zfill(12) + '_bg' + '.png', bg2)\n",
    "#             # cv2.imwrite(save_folder + '/val/tgt/' + str(annId_1).zfill(12) + '_tgt_' + str(annId_2).zfill(12) + '_com' + '.png', com)\n",
    "#             # cv2.imwrite(save_folder + '/val/tgt/' + str(annId_1).zfill(12) + '_tgt_' + str(annId_2).zfill(12) + '_fg' + '.png', fg2)\n",
    "#             # cv2.imwrite(save_folder + '/val/tgt/' + str(annId_1).zfill(12) + '_tgt_' + str(annId_2).zfill(12) + '_gt' + '.png', img2)\n",
    "#             # cv2.imwrite(save_folder + '/val/tgt/' + str(annId_1).zfill(12) + '_tgt_' + str(annId_2).zfill(12) + '_mask' + '.png', mask2)\n",
    "    \n",
    "#     end = time.time()\n",
    "#     elapsed = end - start\n",
    "#     total += elapsed\n",
    "    \n",
    "    # print(\"[{}/{}]\".format(i, len(top5_dict)), f\"average time: {total/(i+SMOOTH):.5f} sec\", end='\\r')"
   ]
  },
  {
   "cell_type": "code",
   "execution_count": 15,
   "id": "d2c692fe-f451-459c-afd2-61fff71c5e0a",
   "metadata": {},
   "outputs": [
    {
     "name": "stdout",
     "output_type": "stream",
     "text": [
      "defaultdict(<class 'int'>, {17: 5, 8: 5, 1: 5, 54: 5, 42: 5, 73: 5, 86: 5, 18: 5, 15: 5, 64: 5, 19: 5, 78: 5, 65: 5, 59: 5, 47: 5, 61: 5, 28: 5, 7: 5, 4: 5, 5: 5, 62: 5, 58: 5, 11: 5, 88: 5, 72: 5, 24: 5, 38: 5, 77: 5, 6: 5, 3: 5, 10: 5, 51: 5, 20: 5, 2: 5, 75: 5, 25: 5, 82: 5, 52: 5, 9: 5, 76: 5, 57: 5, 33: 5, 21: 5, 70: 5, 60: 5, 84: 5, 16: 5, 22: 5, 67: 5, 63: 5, 44: 5, 81: 5, 46: 5, 56: 5, 23: 5, 55: 5, 49: 5, 79: 5, 43: 5, 14: 5, 13: 5, 53: 5, 41: 5, 31: 5, 48: 5, 87: 5, 80: 1, 85: 5, 27: 5, 32: 5, 37: 0, 40: 1, 36: 2, 50: 5, 35: 0, 34: 1, 74: 1, 90: 0, 89: 2, 39: 0})\n"
     ]
    }
   ],
   "source": [
    "print(cnt_dict)"
   ]
  },
  {
   "cell_type": "code",
   "execution_count": 16,
   "id": "31a81000-b2fa-4572-ab1c-ed1999deb3b3",
   "metadata": {},
   "outputs": [],
   "source": [
    "# print(cnt_dict)\n",
    "    \n",
    "#     f, ax = plt.subplots(nrows=1, ncols=5, figsize=(8, 8))\n",
    "#     f.tight_layout()\n",
    "\n",
    "#     ax[0].imshow(bg.squeeze())\n",
    "#     ax[0].set_title(\"bg\")\n",
    "#     ax[0].axis('off')\n",
    "\n",
    "#     ax[1].imshow(fg.squeeze())\n",
    "#     ax[1].set_title(\"fg\")\n",
    "#     ax[1].axis('off')\n",
    "    \n",
    "#     ax[2].imshow(mask1.squeeze())\n",
    "#     ax[2].set_title(\"mask1\")\n",
    "#     ax[2].axis('off')\n",
    "    \n",
    "#     ax[3].imshow(img1.squeeze())\n",
    "#     ax[3].set_title(\"img1\")\n",
    "#     ax[3].axis('off')\n",
    "    \n",
    "#     ax[4].imshow(invert.squeeze())\n",
    "#     ax[4].set_title(\"invert\")\n",
    "#     ax[4].axis('off')\n",
    "\n",
    "# image save with title 'annId_imgtype_i' (including 0)\n",
    "# warning: RGB BGR before save\n",
    "# imgtype: [bg, fg, gt, mask]"
   ]
  }
 ],
 "metadata": {
  "kernelspec": {
   "display_name": "Python 3 (ipykernel)",
   "language": "python",
   "name": "python3"
  },
  "language_info": {
   "codemirror_mode": {
    "name": "ipython",
    "version": 3
   },
   "file_extension": ".py",
   "mimetype": "text/x-python",
   "name": "python",
   "nbconvert_exporter": "python",
   "pygments_lexer": "ipython3",
   "version": "3.8.13"
  }
 },
 "nbformat": 4,
 "nbformat_minor": 5
}
