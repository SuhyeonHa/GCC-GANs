{
 "cells": [
  {
   "cell_type": "code",
   "execution_count": 1,
   "id": "528fc9fe-4d8e-4294-ae1f-d5900a72d6b7",
   "metadata": {},
   "outputs": [],
   "source": [
    "import numpy as np\n",
    "import skimage.io as io\n",
    "import random\n",
    "import os\n",
    "import cv2\n",
    "import pickle\n",
    "import torch\n",
    "from pycocotools.coco import COCO\n",
    "from torch.utils.data import Dataset, DataLoader\n",
    "import glob\n",
    "import time"
   ]
  },
  {
   "cell_type": "code",
   "execution_count": 2,
   "id": "9a70da1e-7e7f-431b-a56d-79faac12218a",
   "metadata": {},
   "outputs": [],
   "source": [
    "torch.cuda.device_count()\n",
    "device = torch.device('cuda:4')\n",
    "torch.cuda.empty_cache()"
   ]
  },
  {
   "cell_type": "code",
   "execution_count": 3,
   "id": "d381894f-aaf1-4e57-911d-f02a99f7ccc6",
   "metadata": {},
   "outputs": [],
   "source": [
    "mode = 'train'\n",
    "\n",
    "load_folder = '/home/ubuntu/COCOdataset2017/{}'.format(mode)\n",
    "save_folder = '/home/ubuntu/GCC2dataset/train'\n",
    "mask_folder = '{}/masks/'.format(save_folder)\n",
    "\n",
    "batch_size = 1\n",
    "input_size = (256, 256)\n",
    "SMOOTH = 1e-6"
   ]
  },
  {
   "cell_type": "code",
   "execution_count": 4,
   "id": "68e2f4bb-b897-4200-8269-9cb85beaa7fe",
   "metadata": {},
   "outputs": [],
   "source": [
    "with open('./validAnns_train.pkl', 'rb') as f:\n",
    "    validAnns = pickle.load(f)\n",
    "\n",
    "with open('./top5_dict_train_total_135737.pkl', 'rb') as f:\n",
    "    top5_dict = pickle.load(f)\n",
    "    \n",
    "# def getImage(self, imageObj, img_folder, img_size):\n",
    "#         # Read and normalize an image\n",
    "#         train_img = cv2.imread(img_folder + '/' + imageObj['file_name'], cv2.IMREAD_COLOR)\n",
    "#         train_img = cv2.cvtColor(train_img, cv2.COLOR_BGR2RGB)\n",
    "#         train_img = cv2.resize(train_img, img_size) # (W,H)\n",
    "#         return train_img\n"
   ]
  },
  {
   "cell_type": "code",
   "execution_count": 5,
   "id": "b1f86f07-6aef-439c-b7e0-a8e514bbc8eb",
   "metadata": {},
   "outputs": [
    {
     "name": "stdout",
     "output_type": "stream",
     "text": [
      "data loaded: 1261.52831 sec\n"
     ]
    }
   ],
   "source": [
    "# 1) load all images, masks\n",
    "# torch XXXX opencv operation needed\n",
    "\n",
    "images = {}\n",
    "masks = {}\n",
    "\n",
    "start = time.time()\n",
    "\n",
    "# images folder glob -> transform (256,256)\n",
    "for i, (catId, imgId, annId) in enumerate(validAnns):\n",
    "    image = cv2.imread(load_folder + '/' + str(imgId).zfill(12) + '.jpg', cv2.IMREAD_COLOR)\n",
    "    image = cv2.resize(image, input_size)\n",
    "    # mask = trans(mask).type(torch.bool).to(device)\n",
    "    images[imgId] = image\n",
    "    \n",
    "    mask = cv2.imread(mask_folder + '/' + str(annId).zfill(12) + '.png', cv2.IMREAD_GRAYSCALE)\n",
    "    mask = cv2.resize(mask, input_size)\n",
    "    # mask = trans(mask).type(torch.bool).to(device)\n",
    "    masks[annId] = mask\n",
    "    \n",
    "end = time.time()\n",
    "\n",
    "print(f\"data loaded: {end - start:.5f} sec\")"
   ]
  },
  {
   "cell_type": "code",
   "execution_count": 6,
   "id": "53580686-a6fd-4e17-8040-10d19406a667",
   "metadata": {},
   "outputs": [
    {
     "name": "stdout",
     "output_type": "stream",
     "text": [
      "86289 155737\n"
     ]
    }
   ],
   "source": [
    "print(len(images), len(masks))"
   ]
  },
  {
   "cell_type": "code",
   "execution_count": 7,
   "id": "94c5348b-be75-452d-8ded-0635b940038e",
   "metadata": {},
   "outputs": [
    {
     "data": {
      "text/plain": [
       "(256, 256)"
      ]
     },
     "execution_count": 7,
     "metadata": {},
     "output_type": "execute_result"
    }
   ],
   "source": [
    "masks[100000].shape"
   ]
  },
  {
   "cell_type": "code",
   "execution_count": 15,
   "id": "428e5bf0-34aa-452d-963c-cb4988905e63",
   "metadata": {},
   "outputs": [
    {
     "name": "stdout",
     "output_type": "stream",
     "text": [
      "[135736/135737] average time: 0.05027 sec\r"
     ]
    }
   ],
   "source": [
    "# 2) not load images, just get images from file paths\n",
    "### For visualizing the outputs ###\n",
    "import matplotlib.pyplot as plt\n",
    "import matplotlib.gridspec as gridspec\n",
    "%matplotlib inline\n",
    "\n",
    "kernel = np.ones((3, 3), np.uint8)\n",
    "SMOOTH = 1e-6\n",
    "total = 0\n",
    "\n",
    "for i, ((catId_1, imgId_1, annId_1), cands) in enumerate(top5_dict.items()):\n",
    "    # (catId_1, imgId_1, annId_1), cands = top5_dict.items()\n",
    "    start = time.time()\n",
    "    img1 = images[imgId_1]\n",
    "    mask1 = masks[annId_1]\n",
    "\n",
    "    for j, (imgId_2, annId_2, _) in enumerate(cands):\n",
    "        # imgId_2, annId_2, _ = cands[0]\n",
    "        img2 = images[imgId_2]\n",
    "        mask2 = masks[annId_2]\n",
    "\n",
    "        # print(img1.shape, img1.dtype, mask1.shape, mask1.dtype)\n",
    "        # print(img2.shape, img2.dtype, mask2.shape, mask2.dtype)\n",
    "        # break\n",
    "\n",
    "        # mask operation\n",
    "        mask1_dilation = cv2.dilate(mask1, kernel, iterations=1)\n",
    "        mask2_erosion = cv2.erode(mask2, kernel, iterations=1)\n",
    "\n",
    "        intersection = cv2.bitwise_and(mask1_dilation, mask2_erosion)\n",
    "        union = cv2.bitwise_or(mask1_dilation, mask2_erosion)\n",
    "        diff = cv2.bitwise_xor(intersection, union)\n",
    "\n",
    "        # print(np.min(rand_mask), np.max(rand_mask))\n",
    "        invert = cv2.bitwise_not(union)//255\n",
    "        # print(\"invert:\", invert.dtype, np.min(invert), np.max(invert))\n",
    "\n",
    "        bg = cv2.bitwise_and(img1, img1, mask = invert) \n",
    "        fg = cv2.bitwise_and(img1, img1, mask = intersection)\n",
    "        # com = cv2.copyTo(fg, mask, bg.copy())\n",
    "\n",
    "        # check before imwrite !!\n",
    "\n",
    "        # to all three-channel images (RGB->BGR)\n",
    "        # bg = cv2.cvtColor(bg, cv2.COLOR_RGB2BGR)\n",
    "        # fg = cv2.cvtColor(fg, cv2.COLOR_RGB2BGR)\n",
    "        # img1 = cv2.cvtColor(img1, cv2.COLOR_RGB2BGR)\n",
    "        # com = cv2.cvtColor(com, cv2.COLOR_RGB2BGR)\n",
    "\n",
    "        cv2.imwrite(save_folder + '/alltypes/' + str(imgId_1).zfill(12) + '_' + str(annId_1).zfill(12) + '_' + str(imgId_2).zfill(12) + '_' + str(annId_2).zfill(12) + '_' + str(j) + '_bg.png', bg)\n",
    "        cv2.imwrite(save_folder + '/alltypes/' + str(imgId_1).zfill(12) + '_' + str(annId_1).zfill(12) + '_' + str(imgId_2).zfill(12) + '_' + str(annId_2).zfill(12) + '_' + str(j) + '_diff.png', diff)\n",
    "        cv2.imwrite(save_folder + '/alltypes/' + str(imgId_1).zfill(12) + '_' + str(annId_1).zfill(12) + '_' + str(imgId_2).zfill(12) + '_' + str(annId_2).zfill(12) + '_' + str(j) + '_fg.png', fg)\n",
    "        cv2.imwrite(save_folder + '/alltypes/' + str(imgId_1).zfill(12) + '_' + str(annId_1).zfill(12) + '_' + str(imgId_2).zfill(12) + '_' + str(annId_2).zfill(12) + '_' + str(j) + '_gt.png', img1)\n",
    "        cv2.imwrite(save_folder + '/alltypes/' + str(imgId_1).zfill(12) + '_' + str(annId_1).zfill(12) + '_' + str(imgId_2).zfill(12) + '_' + str(annId_2).zfill(12) + '_' + str(j) + '_mask.png', mask1)\n",
    "                \n",
    "\n",
    "    end = time.time()\n",
    "    elapsed = end - start\n",
    "    total += elapsed\n",
    "\n",
    "    print(\"[{}/{}]\".format(i, len(top5_dict)), f\"average time: {total/(i+SMOOTH):.5f} sec\", end='\\r')\n",
    "    \n",
    "# f, ax = plt.subplots(nrows=1, ncols=5, figsize=(8, 8))\n",
    "# f.tight_layout()\n",
    "\n",
    "# ax[0].imshow(mask1.squeeze())\n",
    "# ax[0].set_title(\"mask1\")\n",
    "# ax[0].axis('off')\n",
    "\n",
    "# ax[1].imshow(fg.squeeze())\n",
    "# ax[1].set_title(\"fg\")\n",
    "# ax[1].axis('off')\n",
    "\n",
    "# ax[2].imshow(intersection.squeeze())\n",
    "# ax[2].set_title(\"intersection\")\n",
    "# ax[2].axis('off')\n",
    "\n",
    "# ax[3].imshow(union.squeeze())\n",
    "# ax[3].set_title(\"union\")\n",
    "# ax[3].axis('off')\n",
    "\n",
    "# ax[4].imshow(diff.squeeze())\n",
    "# ax[4].set_title(\"diff\")\n",
    "# ax[4].axis('off')\n",
    "\n",
    "  \n",
    "\n",
    "# image save with title 'annId_imgtype_i' (including 0)\n",
    "# warning: RGB BGR before save\n",
    "# imgtype: [bg, fg, gt, mask]\n",
    "\n",
    "\n"
   ]
  },
  {
   "cell_type": "code",
   "execution_count": null,
   "id": "07486dc4-353d-4271-9e23-45b20ccfd720",
   "metadata": {},
   "outputs": [],
   "source": []
  },
  {
   "cell_type": "code",
   "execution_count": null,
   "id": "d2c692fe-f451-459c-afd2-61fff71c5e0a",
   "metadata": {},
   "outputs": [],
   "source": []
  }
 ],
 "metadata": {
  "kernelspec": {
   "display_name": "Python 3.9.13 ('pytorch_p39')",
   "language": "python",
   "name": "python3"
  },
  "language_info": {
   "codemirror_mode": {
    "name": "ipython",
    "version": 3
   },
   "file_extension": ".py",
   "mimetype": "text/x-python",
   "name": "python",
   "nbconvert_exporter": "python",
   "pygments_lexer": "ipython3",
   "version": "3.9.13"
  },
  "vscode": {
   "interpreter": {
    "hash": "eb71ac050f92a5d5e3cdea462f22e174d379ee0836c3076b1e7df4a375a19e34"
   }
  }
 },
 "nbformat": 4,
 "nbformat_minor": 5
}
